{
 "cells": [
  {
   "cell_type": "code",
   "execution_count": 75,
   "id": "f5b32dd6-7a9a-4ff5-90c4-0e18e978e4f4",
   "metadata": {},
   "outputs": [],
   "source": [
    "from typing import Dict, List\n",
    "import pandas as pd\n",
    "import re\n",
    "import itertools\n",
    "import polyline\n",
    "from math import radians, sin, cos, sqrt, atan2"
   ]
  },
  {
   "cell_type": "code",
   "execution_count": 77,
   "id": "d45dd112-ec2c-4ea6-aadd-6194d5ba9a67",
   "metadata": {},
   "outputs": [
    {
     "name": "stdout",
     "output_type": "stream",
     "text": [
      "Question 1: Reverse by N Elements\n",
      "[3, 2, 1, 6, 5, 4, 8, 7]\n"
     ]
    }
   ],
   "source": [
    "# Question 1: Reverse List by N Elements\n",
    "def reverse_by_n_elements(lst: List[int], n: int) -> List[int]:\n",
    "    result = []\n",
    "    for i in range(0, len(lst), n):\n",
    "        group = lst[i:i + n]\n",
    "        for j in range(len(group) // 2):\n",
    "            group[j], group[-j - 1] = group[-j - 1], group[j]\n",
    "        result.extend(group)\n",
    "    return result\n",
    "# # Test for Question 1\n",
    "# lst = [1, 2, 3, 4, 5, 6, 7, 8]\n",
    "# n = 3\n",
    "# print(\"Question 1: Reverse by N Elements\")\n",
    "# print(reverse_by_n_elements(lst, n))"
   ]
  },
  {
   "cell_type": "code",
   "execution_count": 33,
   "id": "867d46a7-2ee7-4e5c-848b-06ba16769044",
   "metadata": {},
   "outputs": [
    {
     "name": "stdout",
     "output_type": "stream",
     "text": [
      "\n",
      "Question 2: Group by Length\n",
      "{3: ['fig'], 4: ['date', 'kiwi'], 5: ['apple'], 6: ['banana', 'cherry']}\n"
     ]
    }
   ],
   "source": [
    "# Question 2: Lists & Dictionaries\n",
    "def group_by_length(lst: List[str]) -> Dict[int, List[str]]:\n",
    "    \"\"\"\n",
    "    Groups the strings by their length and returns a dictionary sorted by the length (key) in ascending order.\n",
    "    \"\"\"\n",
    "    grouped = {}\n",
    "    for s in lst:\n",
    "        length = len(s)\n",
    "        if length in grouped:\n",
    "            grouped[length].append(s)\n",
    "        else:\n",
    "            grouped[length] = [s]\n",
    "    return dict(sorted(grouped.items()))\n",
    "# # Test for Question 2\n",
    "# strings = [\"apple\", \"banana\", \"cherry\", \"date\", \"fig\", \"kiwi\"]\n",
    "# print(\"\\nQuestion 2: Group by Length\")\n",
    "# print(group_by_length(strings))"
   ]
  },
  {
   "cell_type": "code",
   "execution_count": 79,
   "id": "793e342b-9d6c-473e-a889-757ee592bc7f",
   "metadata": {},
   "outputs": [],
   "source": [
    "# Question 3: Flatten a Nested Dictionary\n",
    "def flatten_dict(nested_dict: Dict, sep: str = '.') -> Dict:\n",
    "    \"\"\"\n",
    "    Flattens a nested dictionary into a single-level dictionary with dot notation for keys.\n",
    "    \n",
    "    :param nested_dict: The dictionary object to flatten\n",
    "    :param sep: The separator to use between parent and child keys (defaults to '.')\n",
    "    :return: A flattened dictionary\n",
    "    \"\"\"\n",
    "    def flatten(current_dict, parent_key=\"\"):\n",
    "        items = []\n",
    "        for k, v in current_dict.items():\n",
    "            new_key = f\"{parent_key}{sep}{k}\" if parent_key else k\n",
    "            if isinstance(v, dict):\n",
    "                items.extend(flatten(v, new_key).items())\n",
    "            elif isinstance(v, list):\n",
    "                for i, elem in enumerate(v):\n",
    "                    if isinstance(elem, dict):\n",
    "                        items.extend(flatten(elem, f\"{new_key}[{i}]\").items())\n",
    "                    else:\n",
    "                        items.append((f\"{new_key}[{i}]\", elem))\n",
    "            else:\n",
    "                items.append((new_key, v))\n",
    "        return dict(items)\n",
    "    \n",
    "    return flatten(nested_dict)\n",
    "# # Test for Question 3\n",
    "# nested_dict = {\n",
    "#     \"a\": {\"b\": {\"c\": 1}, \"d\": 2},\n",
    "#     \"e\": [3, {\"f\": 4}],\n",
    "#     \"g\": 5\n",
    "# }\n",
    "# print(\"\\nQuestion 3: Flatten Nested Dictionary\")\n",
    "# print(flatten_dict(nested_dict))"
   ]
  },
  {
   "cell_type": "code",
   "execution_count": 81,
   "id": "dbec09e9-54aa-4531-b477-4448e0e78e9c",
   "metadata": {},
   "outputs": [],
   "source": [
    "# Question 4: Generate Unique Permutations\n",
    "def unique_permutations(nums: List[int]) -> List[List[int]]:\n",
    "    return [list(p) for p in set(itertools.permutations(nums))]\n",
    "\n",
    "# # Test for Question 4\n",
    "# nums = [1, 1, 2]\n",
    "# print(\"\\nQuestion 4: Unique Permutations\")\n",
    "# print(unique_permutations(nums))"
   ]
  },
  {
   "cell_type": "code",
   "execution_count": 83,
   "id": "d798c7d0-60cc-42bd-8ed8-758399d90c53",
   "metadata": {},
   "outputs": [],
   "source": [
    "# Question 5: Find All Dates in a Text\n",
    "def find_all_dates(text: str) -> List[str]:\n",
    "    patterns = [\n",
    "        r'\\d{2}-\\d{2}-\\d{4}',    # dd-mm-yyyy\n",
    "        r'\\d{2}/\\d{2}/\\d{4}',    # mm/dd/yyyy\n",
    "        r'\\d{4}\\.\\d{2}\\.\\d{2}'   # yyyy.mm.dd\n",
    "    ]\n",
    "    dates = []\n",
    "    for pattern in patterns:\n",
    "        dates.extend(re.findall(pattern, text))\n",
    "    return dates\n",
    "\n",
    "# # Test for Question 5\n",
    "# text = \"These are the dates 12-05-2020, 05/12/2020, and 2020.12.05.\"\n",
    "# print(\"\\nQuestion 5: Find All Dates in a Text\")\n",
    "# print(find_all_dates(text))"
   ]
  },
  {
   "cell_type": "code",
   "execution_count": 85,
   "id": "d12a6b29-08a9-46f6-929a-91f3959432df",
   "metadata": {},
   "outputs": [],
   "source": [
    "# Question 6: Decode Polyline, Convert to DataFrame with Distances\n",
    "\n",
    "def polyline_to_dataframe(polyline_str: str) -> pd.DataFrame:\n",
    "    \"\"\"\n",
    "    Converts a polyline string into a DataFrame with latitude, longitude, and distance between consecutive points.\n",
    "    \n",
    "    Args:\n",
    "        polyline_str (str): The encoded polyline string.\n",
    "\n",
    "    Returns:\n",
    "        pd.DataFrame: A DataFrame containing latitude, longitude, and distance in meters.\n",
    "    \"\"\"\n",
    "    \n",
    "    \n",
    "    coordinates = polyline.decode(polyline_str)\n",
    "    df = pd.DataFrame(coordinates, columns=['latitude', 'longitude'])\n",
    "    df['distance'] = 0.0\n",
    "    \n",
    "    def haversine(lat1, lon1, lat2, lon2):\n",
    "        R = 6371000  # Radius of the Earth in meters\n",
    "        lat1, lon1, lat2, lon2 = map(radians, [lat1, lon1, lat2, lon2]) # Convert degrees to radians\n",
    "        # Differences in coordinates\n",
    "        dlat = lat2 - lat1\n",
    "        dlon = lon2 - lon1\n",
    "        # Haversine formula\n",
    "        a = sin(dlat / 2) ** 2 + cos(lat1) * cos(lat2) * sin(dlon / 2) ** 2\n",
    "        c = 2 * atan2(sqrt(a), sqrt(1 - a))\n",
    "        distance = R * c  # Distance in meters\n",
    "        return distance\n",
    "    for i in range(1, len(df)):\n",
    "        lat1, lon1 = df.loc[i - 1, 'latitude'], df.loc[i - 1, 'longitude']\n",
    "        lat2, lon2 = df.loc[i, 'latitude'], df.loc[i, 'longitude']\n",
    "        df.loc[i, 'distance'] = haversine(lat1, lon1, lat2, lon2)    \n",
    "    return df"
   ]
  },
  {
   "cell_type": "code",
   "execution_count": 87,
   "id": "e2ff9aec-5cb0-408a-a426-fe13af9b418f",
   "metadata": {},
   "outputs": [],
   "source": [
    "# Question 7: Matrix Rotation and Transformation\n",
    "def rotate_and_multiply_matrix(matrix: List[List[int]]) -> List[List[int]]:\n",
    "    n = len(matrix)\n",
    "    rotated = [[matrix[n - j - 1][i] for j in range(n)] for i in range(n)]\n",
    "    \n",
    "    transformed = []\n",
    "    for i in range(n):\n",
    "        row_sum = sum(rotated[i])\n",
    "        transformed_row = []\n",
    "        for j in range(n):\n",
    "            col_sum = sum(rotated[k][j] for k in range(n))\n",
    "            transformed_row.append(row_sum + col_sum - 2 * rotated[i][j])\n",
    "        transformed.append(transformed_row)\n",
    "    \n",
    "    return transformed\n",
    "# # Test for Question 7\n",
    "# matrix = [[1, 2, 3], [4, 5, 6], [7, 8, 9]]\n",
    "# print(\"\\nQuestion 7: Matrix Rotation and Transformation\")\n",
    "# print(rotate_and_multiply_matrix(matrix))"
   ]
  },
  {
   "cell_type": "code",
   "execution_count": 93,
   "id": "be48907d-dc04-43b6-92e0-6a877d2f3e7b",
   "metadata": {},
   "outputs": [],
   "source": [
    "# Question 8 : Time Check\n",
    "def time_check(df: pd.DataFrame) -> pd.Series:\n",
    "    day_to_num = {'Monday': 0, 'Tuesday': 1, 'Wednesday': 2, 'Thursday': 3, 'Friday': 4, 'Saturday': 5, 'Sunday': 6}\n",
    "    df['startDayNum'] = df['startDay'].map(day_to_num)\n",
    "    df['endDayNum'] = df['endDay'].map(day_to_num)\n",
    "    df['startTimeDelta'] = pd.to_timedelta(df['startTime'])\n",
    "    df['endTimeDelta'] = pd.to_timedelta(df['endTime'])\n",
    "    full_week_timedelta = pd.Timedelta(days=7)\n",
    "    def check_time_coverage(group):\n",
    "        total_coverage = pd.Timedelta(0)\n",
    "        for _, row in group.iterrows():\n",
    "            start_time = pd.Timedelta(days=row['startDayNum']) + row['startTimeDelta']\n",
    "            end_time = pd.Timedelta(days=row['endDayNum']) + row['endTimeDelta']\n",
    "            total_coverage += end_time - start_time\n",
    "        return total_coverage >= full_week_timedelta\n",
    "    return df.groupby(['id', 'id_2']).apply(check_time_coverage)\n",
    "\n",
    "# Apply the function to the dataset\n",
    "# df = pd.read_csv('dataset-1.csv')\n",
    "# result_series = time_check(df)\n",
    "\n",
    "# # Display the result as a series\n",
    "# result_series.head()\n"
   ]
  }
 ],
 "metadata": {
  "kernelspec": {
   "display_name": "Python 3 (ipykernel)",
   "language": "python",
   "name": "python3"
  },
  "language_info": {
   "codemirror_mode": {
    "name": "ipython",
    "version": 3
   },
   "file_extension": ".py",
   "mimetype": "text/x-python",
   "name": "python",
   "nbconvert_exporter": "python",
   "pygments_lexer": "ipython3",
   "version": "3.12.4"
  }
 },
 "nbformat": 4,
 "nbformat_minor": 5
}
